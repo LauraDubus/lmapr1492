{
 "cells": [
  {
   "cell_type": "code",
   "execution_count": 9,
   "id": "great-patch",
   "metadata": {},
   "outputs": [],
   "source": [
    "from pymatgen import Lattice, Structure, MPRester\n",
    "from pymatgen.symmetry.analyzer import SpacegroupAnalyzer\n",
    "from pymatgen.io.cif import CifWriter"
   ]
  },
  {
   "cell_type": "code",
   "execution_count": 10,
   "id": "missing-alaska",
   "metadata": {},
   "outputs": [],
   "source": [
    "with MPRester(\"2N9dqDh3wLHCSK1O\") as m:\n",
    "    struct = m.get_structure_by_material_id(\"mp-754541\")\n",
    "\n",
    "w = CifWriter(struct)\n",
    "w.write_file('mp-754541_structure.cif')"
   ]
  },
  {
   "cell_type": "code",
   "execution_count": 5,
   "id": "decimal-scroll",
   "metadata": {},
   "outputs": [
    {
     "name": "stdout",
     "output_type": "stream",
     "text": [
      "Vecteurs de base du réseau direct : \n",
      "[[ 6.5891   -1.722218  0.      ]\n",
      " [ 6.5891    1.722218  0.      ]\n",
      " [ 6.138958  0.        2.948808]]\n",
      " \n",
      "Norme des vecteurs du réseau direct (en Angstrom) :\n",
      "(6.810453263148056, 6.810453263148056, 6.810453284960407)\n",
      " \n",
      "Angles du réseau direct (en degrés) :\n",
      "(29.295828774066205, 29.295828774066205, 29.29583901798259)\n"
     ]
    }
   ],
   "source": [
    "print(\"Vecteurs de base du réseau direct : \")\n",
    "vecteurD = struct.lattice.matrix\n",
    "print(vecteurD)\n",
    "print(\" \")\n",
    "print (\"Norme des vecteurs du réseau direct (en Angstrom) :\")\n",
    "longueur = struct.lattice.abc \n",
    "print(longueur)\n",
    "print(\" \")\n",
    "print(\"Angles du réseau direct (en degrés) :\")\n",
    "angle = struct.lattice.angles\n",
    "print(angle)"
   ]
  },
  {
   "cell_type": "code",
   "execution_count": 7,
   "id": "connected-mumbai",
   "metadata": {},
   "outputs": [
    {
     "name": "stdout",
     "output_type": "stream",
     "text": [
      "Vecteurs de base du réseau réciproque : \n",
      "0.476786 -1.824155 -0.992595\n",
      "0.476786 1.824155 -0.992595\n",
      "0.000000 0.000000 2.130754\n",
      " \n",
      "Norme des vecteurs du réseau réciproque (en Angstrom) :\n",
      "(2.130753621510319, 2.130753621510319, 2.130754293660213)\n",
      " \n",
      "Angles du réseau réciproque (en degrés) :\n",
      "(117.76473284561818, 117.76473284561818, 117.76469816533307)\n"
     ]
    }
   ],
   "source": [
    "print(\"Vecteurs de base du réseau réciproque : \")\n",
    "vecteurR = struct.lattice.reciprocal_lattice\n",
    "print(vecteurR)\n",
    "print(\" \")\n",
    "print (\"Norme des vecteurs du réseau réciproque (en Angstrom) :\")\n",
    "longueurR = struct.lattice.reciprocal_lattice.abc\n",
    "print(longueurR)\n",
    "print(\" \")\n",
    "print(\"Angles du réseau réciproque (en degrés) :\")\n",
    "angleR = struct.lattice.reciprocal_lattice.angles\n",
    "print(angleR)"
   ]
  },
  {
   "cell_type": "code",
   "execution_count": 8,
   "id": "collective-genre",
   "metadata": {},
   "outputs": [
    {
     "name": "stdout",
     "output_type": "stream",
     "text": [
      "Type de maille :rhombohedral\n",
      "Système cristallin :trigonal\n",
      "Groupe ponctuel : -3m\n"
     ]
    }
   ],
   "source": [
    "maille = SpacegroupAnalyzer(struct).get_lattice_type()\n",
    "print(\"Type de maille :\" + maille[:])\n",
    "\n",
    "syst = SpacegroupAnalyzer(struct).get_crystal_system()\n",
    "print(\"Système cristallin :\" + syst)\n",
    "\n",
    "groupe = SpacegroupAnalyzer(struct).get_point_group_symbol()\n",
    "print('Groupe ponctuel : ' + groupe)"
   ]
  },
  {
   "cell_type": "code",
   "execution_count": null,
   "id": "demanding-sitting",
   "metadata": {},
   "outputs": [],
   "source": []
  }
 ],
 "metadata": {
  "kernelspec": {
   "display_name": "Python 3",
   "language": "python",
   "name": "python3"
  },
  "language_info": {
   "codemirror_mode": {
    "name": "ipython",
    "version": 3
   },
   "file_extension": ".py",
   "mimetype": "text/x-python",
   "name": "python",
   "nbconvert_exporter": "python",
   "pygments_lexer": "ipython3",
   "version": "3.6.8"
  }
 },
 "nbformat": 4,
 "nbformat_minor": 5
}
