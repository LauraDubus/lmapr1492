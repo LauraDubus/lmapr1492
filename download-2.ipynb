{
 "cells": [
  {
   "cell_type": "code",
   "execution_count": 1,
   "id": "otherwise-collins",
   "metadata": {},
   "outputs": [],
   "source": [
    "from pymatgen import Lattice, Structure, MPRester\n",
    "from jupyter_jsmol.pymatgen import quick_view\n",
    "from pymatgen.io.cif import CifWriter"
   ]
  },
  {
   "cell_type": "code",
   "execution_count": 2,
   "id": "incredible-grammar",
   "metadata": {},
   "outputs": [
    {
     "data": {
      "application/vnd.jupyter.widget-view+json": {
       "model_id": "f4f6aaccfdc84a17a21f880836bae750",
       "version_major": 2,
       "version_minor": 0
      },
      "text/plain": [
       "JsmolView(layout=Layout(align_self='stretch', height='400px'))"
      ]
     },
     "metadata": {},
     "output_type": "display_data"
    }
   ],
   "source": [
    "with MPRester(\"2N9dqDh3wLHCSK1O\") as m:\n",
    "    struct = m.get_structure_by_material_id(\"mp-754541\")\n",
    "view=quick_view(struct)\n",
    "display(view)\n",
    "\n",
    "w = CifWriter(struct)\n",
    "w.write_file('mp-754541_structure.cif')"
   ]
  },
  {
   "cell_type": "code",
   "execution_count": null,
   "id": "mounted-accessory",
   "metadata": {},
   "outputs": [],
   "source": []
  }
 ],
 "metadata": {
  "kernelspec": {
   "display_name": "Python 3",
   "language": "python",
   "name": "python3"
  },
  "language_info": {
   "codemirror_mode": {
    "name": "ipython",
    "version": 3
   },
   "file_extension": ".py",
   "mimetype": "text/x-python",
   "name": "python",
   "nbconvert_exporter": "python",
   "pygments_lexer": "ipython3",
   "version": "3.6.8"
  }
 },
 "nbformat": 4,
 "nbformat_minor": 5
}
