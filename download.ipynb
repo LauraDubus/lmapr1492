{
 "cells": [
  {
   "cell_type": "code",
   "execution_count": 5,
   "id": "otherwise-collins",
   "metadata": {},
   "outputs": [],
   "source": [
    "from pymatgen import Lattice, Structure, Molecule, MPRester\n",
    "from pymatgen.symmetry.analyzer import SpacegroupAnalyzer\n",
    "\n",
    "from jupyter_jsmol.pymatgen import quick_view"
   ]
  },
  {
   "cell_type": "code",
   "execution_count": 7,
   "id": "numeric-preservation",
   "metadata": {},
   "outputs": [
    {
     "data": {
      "application/vnd.jupyter.widget-view+json": {
       "model_id": "32b12bfe9335423a9675623beec2a54e",
       "version_major": 2,
       "version_minor": 0
      },
      "text/plain": [
       "JsmolView(layout=Layout(align_self='stretch', height='400px'))"
      ]
     },
     "metadata": {},
     "output_type": "display_data"
    }
   ],
   "source": [
    "struct=Structure.from_file(\"TmTlO2_mp-754541_primitive.cif\")  \n",
    "view=quick_view(struct)\n",
    "display(view)"
   ]
  },
  {
   "cell_type": "code",
   "execution_count": 8,
   "id": "incredible-grammar",
   "metadata": {},
   "outputs": [
    {
     "data": {
      "application/vnd.jupyter.widget-view+json": {
       "model_id": "8ebeb93d429a4dcd8096b3722cb9c11e",
       "version_major": 2,
       "version_minor": 0
      },
      "text/plain": [
       "JsmolView(layout=Layout(align_self='stretch', height='400px'))"
      ]
     },
     "metadata": {},
     "output_type": "display_data"
    }
   ],
   "source": [
    "with MPRester(\"2N9dqDh3wLHCSK1O\") as m:\n",
    "    struct = m.get_structure_by_material_id(\"mp-754541\")\n",
    "view=quick_view(struct)\n",
    "display(view)"
   ]
  },
  {
   "cell_type": "code",
   "execution_count": null,
   "id": "mounted-accessory",
   "metadata": {},
   "outputs": [],
   "source": []
  }
 ],
 "metadata": {
  "kernelspec": {
   "display_name": "Python 3",
   "language": "python",
   "name": "python3"
  },
  "language_info": {
   "codemirror_mode": {
    "name": "ipython",
    "version": 3
   },
   "file_extension": ".py",
   "mimetype": "text/x-python",
   "name": "python",
   "nbconvert_exporter": "python",
   "pygments_lexer": "ipython3",
   "version": "3.6.8"
  }
 },
 "nbformat": 4,
 "nbformat_minor": 5
}
